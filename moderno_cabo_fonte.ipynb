{
 "cells": [
  {
   "attachments": {},
   "cell_type": "markdown",
   "metadata": {},
   "source": [
    "# Roteiro\n",
    "1. Leitura dos dados\n",
    "2. Criação dos datasets e dataloaders\n",
    "3. Definição do modelo, otimizador e loss function\n",
    "4. Definição das funções de treino, validação e teste\n",
    "5. Treinamento\n",
    "6. Inferência"
   ]
  },
  {
   "attachments": {},
   "cell_type": "markdown",
   "metadata": {},
   "source": [
    "# 1. Leitura dos dados\n",
    "\n",
    "Carregando dataset"
   ]
  },
  {
   "cell_type": "code",
   "execution_count": 1,
   "metadata": {},
   "outputs": [
    {
     "name": "stderr",
     "output_type": "stream",
     "text": [
      "Copying files: 50 files [00:00, 451.65 files/s]\n"
     ]
    }
   ],
   "source": [
    "import splitfolders\n",
    "splitfolders.ratio('cabo_crop', output=\"cabo_crop_splitted\", seed=1337, ratio=(0.6, 0.2, 0.2))"
   ]
  },
  {
   "attachments": {},
   "cell_type": "markdown",
   "metadata": {},
   "source": [
    "# 2. Criação dos datasets e dataloaders\n",
    "\n",
    "Criando as transformações nos dados\n",
    "- resize\n",
    "- normalização\n",
    "\n",
    "O dataset de treino sofre resize e normalização de acordo com o ImageNet Dataset"
   ]
  },
  {
   "cell_type": "code",
   "execution_count": 3,
   "metadata": {},
   "outputs": [],
   "source": [
    "# imports\n",
    "import os\n",
    "import torch\n",
    "from torchvision import datasets\n",
    "import torchvision.transforms as transforms\n",
    "\n",
    "train_transform = transforms.Compose([\n",
    "        transforms.Resize((224,350)),\n",
    "        transforms.ToTensor(),\n",
    "        transforms.Normalize([0.485, 0.456, 0.406], [0.229, 0.224, 0.225])\n",
    "    ])\n",
    "\n",
    "transform = transforms.Compose([\n",
    "        transforms.Resize((224,350)),\n",
    "        transforms.ToTensor(),\n",
    "        transforms.Normalize([0.485, 0.456, 0.406], [0.229, 0.224, 0.225])\n",
    "    ])"
   ]
  },
  {
   "attachments": {},
   "cell_type": "markdown",
   "metadata": {},
   "source": [
    "Criação dos datasets e dataloarders de treino, teste e validação"
   ]
  },
  {
   "cell_type": "code",
   "execution_count": 4,
   "metadata": {},
   "outputs": [
    {
     "name": "stdout",
     "output_type": "stream",
     "text": [
      "Quantidade de classes: 2\n",
      "Nome das classes: \n",
      "['crop_bom', 'crop_ruim']\n"
     ]
    }
   ],
   "source": [
    "data_dir = 'cabo_crop_splitted'\n",
    "\n",
    "train_dataset = datasets.ImageFolder(os.path.join(data_dir + \"/train\"), transform=train_transform)\n",
    "val_dataset = datasets.ImageFolder(os.path.join(data_dir + \"/val\"), transform=transform)\n",
    "test_dataset = datasets.ImageFolder(os.path.join(data_dir + \"/test\"), transform=transform)\n",
    "\n",
    "train_dataloader = torch.utils.data.DataLoader(train_dataset, batch_size=2, shuffle=True)\n",
    "val_dataloader = torch.utils.data.DataLoader(val_dataset, batch_size=2, shuffle=True)\n",
    "test_dataloader = torch.utils.data.DataLoader(test_dataset, batch_size=2, shuffle=True)\n",
    "\n",
    "num_classes = len(train_dataset.classes)\n",
    "class_names = train_dataset.classes\n",
    "\n",
    "print(f'Quantidade de classes: {num_classes}')\n",
    "print(f'Nome das classes: \\n{class_names}')"
   ]
  },
  {
   "attachments": {},
   "cell_type": "markdown",
   "metadata": {},
   "source": [
    "# 3. Definido modelo, otimizador e função de perda"
   ]
  },
  {
   "cell_type": "code",
   "execution_count": 5,
   "metadata": {},
   "outputs": [
    {
     "name": "stdout",
     "output_type": "stream",
     "text": [
      "ResNet(\n",
      "  (conv1): Conv2d(3, 64, kernel_size=(7, 7), stride=(2, 2), padding=(3, 3), bias=False)\n",
      "  (bn1): BatchNorm2d(64, eps=1e-05, momentum=0.1, affine=True, track_running_stats=True)\n",
      "  (relu): ReLU(inplace=True)\n",
      "  (maxpool): MaxPool2d(kernel_size=3, stride=2, padding=1, dilation=1, ceil_mode=False)\n",
      "  (layer1): Sequential(\n",
      "    (0): BasicBlock(\n",
      "      (conv1): Conv2d(64, 64, kernel_size=(3, 3), stride=(1, 1), padding=(1, 1), bias=False)\n",
      "      (bn1): BatchNorm2d(64, eps=1e-05, momentum=0.1, affine=True, track_running_stats=True)\n",
      "      (relu): ReLU(inplace=True)\n",
      "      (conv2): Conv2d(64, 64, kernel_size=(3, 3), stride=(1, 1), padding=(1, 1), bias=False)\n",
      "      (bn2): BatchNorm2d(64, eps=1e-05, momentum=0.1, affine=True, track_running_stats=True)\n",
      "    )\n",
      "    (1): BasicBlock(\n",
      "      (conv1): Conv2d(64, 64, kernel_size=(3, 3), stride=(1, 1), padding=(1, 1), bias=False)\n",
      "      (bn1): BatchNorm2d(64, eps=1e-05, momentum=0.1, affine=True, track_running_stats=True)\n",
      "      (relu): ReLU(inplace=True)\n",
      "      (conv2): Conv2d(64, 64, kernel_size=(3, 3), stride=(1, 1), padding=(1, 1), bias=False)\n",
      "      (bn2): BatchNorm2d(64, eps=1e-05, momentum=0.1, affine=True, track_running_stats=True)\n",
      "    )\n",
      "  )\n",
      "  (layer2): Sequential(\n",
      "    (0): BasicBlock(\n",
      "      (conv1): Conv2d(64, 128, kernel_size=(3, 3), stride=(2, 2), padding=(1, 1), bias=False)\n",
      "      (bn1): BatchNorm2d(128, eps=1e-05, momentum=0.1, affine=True, track_running_stats=True)\n",
      "      (relu): ReLU(inplace=True)\n",
      "      (conv2): Conv2d(128, 128, kernel_size=(3, 3), stride=(1, 1), padding=(1, 1), bias=False)\n",
      "      (bn2): BatchNorm2d(128, eps=1e-05, momentum=0.1, affine=True, track_running_stats=True)\n",
      "      (downsample): Sequential(\n",
      "        (0): Conv2d(64, 128, kernel_size=(1, 1), stride=(2, 2), bias=False)\n",
      "        (1): BatchNorm2d(128, eps=1e-05, momentum=0.1, affine=True, track_running_stats=True)\n",
      "      )\n",
      "    )\n",
      "    (1): BasicBlock(\n",
      "      (conv1): Conv2d(128, 128, kernel_size=(3, 3), stride=(1, 1), padding=(1, 1), bias=False)\n",
      "      (bn1): BatchNorm2d(128, eps=1e-05, momentum=0.1, affine=True, track_running_stats=True)\n",
      "      (relu): ReLU(inplace=True)\n",
      "      (conv2): Conv2d(128, 128, kernel_size=(3, 3), stride=(1, 1), padding=(1, 1), bias=False)\n",
      "      (bn2): BatchNorm2d(128, eps=1e-05, momentum=0.1, affine=True, track_running_stats=True)\n",
      "    )\n",
      "  )\n",
      "  (layer3): Sequential(\n",
      "    (0): BasicBlock(\n",
      "      (conv1): Conv2d(128, 256, kernel_size=(3, 3), stride=(2, 2), padding=(1, 1), bias=False)\n",
      "      (bn1): BatchNorm2d(256, eps=1e-05, momentum=0.1, affine=True, track_running_stats=True)\n",
      "      (relu): ReLU(inplace=True)\n",
      "      (conv2): Conv2d(256, 256, kernel_size=(3, 3), stride=(1, 1), padding=(1, 1), bias=False)\n",
      "      (bn2): BatchNorm2d(256, eps=1e-05, momentum=0.1, affine=True, track_running_stats=True)\n",
      "      (downsample): Sequential(\n",
      "        (0): Conv2d(128, 256, kernel_size=(1, 1), stride=(2, 2), bias=False)\n",
      "        (1): BatchNorm2d(256, eps=1e-05, momentum=0.1, affine=True, track_running_stats=True)\n",
      "      )\n",
      "    )\n",
      "    (1): BasicBlock(\n",
      "      (conv1): Conv2d(256, 256, kernel_size=(3, 3), stride=(1, 1), padding=(1, 1), bias=False)\n",
      "      (bn1): BatchNorm2d(256, eps=1e-05, momentum=0.1, affine=True, track_running_stats=True)\n",
      "      (relu): ReLU(inplace=True)\n",
      "      (conv2): Conv2d(256, 256, kernel_size=(3, 3), stride=(1, 1), padding=(1, 1), bias=False)\n",
      "      (bn2): BatchNorm2d(256, eps=1e-05, momentum=0.1, affine=True, track_running_stats=True)\n",
      "    )\n",
      "  )\n",
      "  (layer4): Sequential(\n",
      "    (0): BasicBlock(\n",
      "      (conv1): Conv2d(256, 512, kernel_size=(3, 3), stride=(2, 2), padding=(1, 1), bias=False)\n",
      "      (bn1): BatchNorm2d(512, eps=1e-05, momentum=0.1, affine=True, track_running_stats=True)\n",
      "      (relu): ReLU(inplace=True)\n",
      "      (conv2): Conv2d(512, 512, kernel_size=(3, 3), stride=(1, 1), padding=(1, 1), bias=False)\n",
      "      (bn2): BatchNorm2d(512, eps=1e-05, momentum=0.1, affine=True, track_running_stats=True)\n",
      "      (downsample): Sequential(\n",
      "        (0): Conv2d(256, 512, kernel_size=(1, 1), stride=(2, 2), bias=False)\n",
      "        (1): BatchNorm2d(512, eps=1e-05, momentum=0.1, affine=True, track_running_stats=True)\n",
      "      )\n",
      "    )\n",
      "    (1): BasicBlock(\n",
      "      (conv1): Conv2d(512, 512, kernel_size=(3, 3), stride=(1, 1), padding=(1, 1), bias=False)\n",
      "      (bn1): BatchNorm2d(512, eps=1e-05, momentum=0.1, affine=True, track_running_stats=True)\n",
      "      (relu): ReLU(inplace=True)\n",
      "      (conv2): Conv2d(512, 512, kernel_size=(3, 3), stride=(1, 1), padding=(1, 1), bias=False)\n",
      "      (bn2): BatchNorm2d(512, eps=1e-05, momentum=0.1, affine=True, track_running_stats=True)\n",
      "    )\n",
      "  )\n",
      "  (avgpool): AdaptiveAvgPool2d(output_size=(1, 1))\n",
      "  (fc): Linear(in_features=512, out_features=2, bias=True)\n",
      ")\n"
     ]
    }
   ],
   "source": [
    "from torchvision import models\n",
    "import torch.nn as nn\n",
    "from torch import optim\n",
    "\n",
    "device = torch.device('cpu')\n",
    "\n",
    "model = models.resnet18(pretrained=True)\n",
    "model.fc = nn.Linear(in_features=512, out_features=num_classes, bias=True)\n",
    "print(model)\n",
    "\n",
    "model.to(device)\n",
    "\n",
    "criterion = nn.CrossEntropyLoss()\n",
    "optimizer = optim.Adam(model.parameters(), lr=3e-4)"
   ]
  },
  {
   "attachments": {},
   "cell_type": "markdown",
   "metadata": {},
   "source": [
    "# 4. Definição das funções de treino, validação e teste"
   ]
  },
  {
   "cell_type": "code",
   "execution_count": 6,
   "metadata": {},
   "outputs": [],
   "source": [
    "%matplotlib inline\n",
    "import matplotlib.pyplot as plt\n",
    "from datetime import datetime\n",
    "import copy\n",
    "import numpy as np\n",
    "\n",
    "\n",
    "def plot_losses(train_losses, valid_losses):\n",
    "    '''\n",
    "    Function for plotting training and validation losses\n",
    "    '''\n",
    "    \n",
    "    plt.style.use('seaborn')\n",
    "\n",
    "    train_losses = np.array(train_losses) \n",
    "    valid_losses = np.array(valid_losses)\n",
    "\n",
    "    fig, ax = plt.subplots(figsize = (8, 4.5))\n",
    "\n",
    "    ax.plot(train_losses, color='blue', label='Training loss') \n",
    "    ax.plot(valid_losses, color='red', label='Validation loss')\n",
    "    ax.set(title=\"Loss over epochs\", \n",
    "            xlabel='Epoch',\n",
    "            ylabel='Loss') \n",
    "    ax.legend()\n",
    "    \n",
    "def get_accuracy(model, data_loader, device):\n",
    "    correct_pred = 0 \n",
    "    n = 0\n",
    "    \n",
    "    with torch.no_grad():\n",
    "        model.eval()\n",
    "        for inputs, labels in data_loader:\n",
    "\n",
    "            inputs = inputs.to(device)\n",
    "            labels = labels.to(device)\n",
    "\n",
    "            output_prob = model(inputs)\n",
    "            _, predicted_labels = torch.max(output_prob, 1)\n",
    "\n",
    "            n += labels.size(0) # add batch_size num of samples being iterated\n",
    "            correct_pred += (predicted_labels == labels).sum() # sum array of bools (1's are correct predictions)\n",
    "\n",
    "    return correct_pred.float() / n\n",
    "\n",
    "def train(train_loader, model, criterion, optimizer, device):\n",
    "    model.train()\n",
    "    running_loss = 0\n",
    "    \n",
    "    for inputs, labels in train_loader:\n",
    "\n",
    "        optimizer.zero_grad()\n",
    "        \n",
    "        inputs = inputs.to(device)\n",
    "        labels = labels.to(device)\n",
    "    \n",
    "        # Forward pass\n",
    "        outputs = model(inputs) \n",
    "        loss = criterion(outputs, labels) \n",
    "        running_loss += loss.item() * inputs.size(0)\n",
    "\n",
    "        # Backward pass\n",
    "        loss.backward()\n",
    "        optimizer.step()\n",
    "        \n",
    "    epoch_loss = running_loss / len(train_loader.dataset)\n",
    "    return model, optimizer, epoch_loss\n",
    "\n",
    "def val(val_loader, model, criterion, device):\n",
    "  \n",
    "    model.eval()\n",
    "    running_loss = 0\n",
    "    \n",
    "    for inputs, labels in val_loader:\n",
    "    \n",
    "        inputs = inputs.to(device)\n",
    "        labels = labels.to(device)\n",
    "\n",
    "        # Forward pass and record loss\n",
    "        with torch.no_grad():\n",
    "            outputs = model(inputs) \n",
    "            loss = criterion(outputs, labels) \n",
    "            running_loss += loss.item() * inputs.size(0)\n",
    "\n",
    "    epoch_loss = running_loss / len(val_loader.dataset)\n",
    "        \n",
    "    return model, epoch_loss\n",
    "\n",
    "\n",
    "def training_loop(model, criterion, optimizer, train_loader, valid_loader, test_dataloader, epoches, device, print_every=1):\n",
    "    '''\n",
    "    Function defining the entire training loop\n",
    "    '''\n",
    "    # set objects for storing metrics\n",
    "    best_acc = 0.0\n",
    "    best_loss = 1e10\n",
    "    train_losses = []\n",
    "    valid_losses = []\n",
    "\n",
    "    # Train model and validate\n",
    "    for epoch in range(epoches):\n",
    "\n",
    "        # training\n",
    "        model, optimizer, train_loss = train(train_loader, model, criterion, optimizer, device)\n",
    "        train_losses.append(train_loss)\n",
    "\n",
    "        # validation\n",
    "        with torch.no_grad():\n",
    "            model, valid_loss = val(valid_loader, model, criterion, device)\n",
    "            valid_losses.append(valid_loss)\n",
    "\n",
    "        # accuracies\n",
    "        if epoch % print_every == (print_every - 1):\n",
    "            \n",
    "            train_acc = get_accuracy(model, train_loader, device=device)\n",
    "            valid_acc = get_accuracy(model, valid_loader, device=device)\n",
    "            test_acc = get_accuracy(model, test_dataloader, device=device)\n",
    "            \n",
    "            print(f'{datetime.now().time().replace(microsecond=0)} --- '\n",
    "                    f'Epoch: {epoch}\\t'\n",
    "                    f'Train loss: {train_loss:.4f}\\t'\n",
    "                    f'Valid loss: {valid_loss:.4f}\\t'\n",
    "                    f'Train accuracy: {100 * train_acc:.2f}\\t'\n",
    "                    f'Val accuracy: {100 * valid_acc:.2f}\\t'\n",
    "                    f'Test accuracy: {100 * test_acc:.2f}')\n",
    "\n",
    "        # create a copy of our model when it test its best\n",
    "        if test_acc >= best_acc:\n",
    "            best_acc = test_acc\n",
    "            best_model_wts = copy.deepcopy(model.state_dict())\n",
    "        \n",
    "    plot_losses(train_losses, valid_losses)\n",
    "    print('Best val Acc: {:4f}'.format(best_acc))\n",
    "    model.load_state_dict(best_model_wts)\n",
    "    return model"
   ]
  },
  {
   "attachments": {},
   "cell_type": "markdown",
   "metadata": {},
   "source": [
    "# 5. Treinamento"
   ]
  },
  {
   "cell_type": "code",
   "execution_count": 7,
   "metadata": {},
   "outputs": [
    {
     "name": "stdout",
     "output_type": "stream",
     "text": [
      "10:17:39 --- Epoch: 0/tTrain loss: 0.4874\tValid loss: 0.0110\tTrain accuracy: 100.00\tVal accuracy: 100.00\tTest accuracy: 100.00\n",
      "10:17:49 --- Epoch: 1/tTrain loss: 0.5977\tValid loss: 1.0055\tTrain accuracy: 83.33\tVal accuracy: 80.00\tTest accuracy: 100.00\n",
      "10:17:59 --- Epoch: 2/tTrain loss: 0.5910\tValid loss: 0.0934\tTrain accuracy: 96.67\tVal accuracy: 100.00\tTest accuracy: 100.00\n",
      "10:18:09 --- Epoch: 3/tTrain loss: 0.2530\tValid loss: 0.0255\tTrain accuracy: 100.00\tVal accuracy: 100.00\tTest accuracy: 100.00\n",
      "10:18:19 --- Epoch: 4/tTrain loss: 0.1598\tValid loss: 0.0138\tTrain accuracy: 100.00\tVal accuracy: 100.00\tTest accuracy: 100.00\n",
      "10:18:29 --- Epoch: 5/tTrain loss: 0.0776\tValid loss: 0.0069\tTrain accuracy: 100.00\tVal accuracy: 100.00\tTest accuracy: 100.00\n",
      "10:18:40 --- Epoch: 6/tTrain loss: 0.0929\tValid loss: 0.0131\tTrain accuracy: 100.00\tVal accuracy: 100.00\tTest accuracy: 100.00\n",
      "10:18:49 --- Epoch: 7/tTrain loss: 0.0480\tValid loss: 0.0092\tTrain accuracy: 100.00\tVal accuracy: 100.00\tTest accuracy: 100.00\n",
      "10:18:59 --- Epoch: 8/tTrain loss: 0.0436\tValid loss: 0.0066\tTrain accuracy: 100.00\tVal accuracy: 100.00\tTest accuracy: 100.00\n",
      "10:19:09 --- Epoch: 9/tTrain loss: 0.0278\tValid loss: 0.0072\tTrain accuracy: 100.00\tVal accuracy: 100.00\tTest accuracy: 100.00\n",
      "10:19:19 --- Epoch: 10/tTrain loss: 0.0277\tValid loss: 0.0036\tTrain accuracy: 100.00\tVal accuracy: 100.00\tTest accuracy: 100.00\n",
      "10:19:29 --- Epoch: 11/tTrain loss: 0.0372\tValid loss: 0.0041\tTrain accuracy: 100.00\tVal accuracy: 100.00\tTest accuracy: 100.00\n",
      "10:19:39 --- Epoch: 12/tTrain loss: 0.0168\tValid loss: 0.0028\tTrain accuracy: 100.00\tVal accuracy: 100.00\tTest accuracy: 100.00\n",
      "10:19:49 --- Epoch: 13/tTrain loss: 0.0167\tValid loss: 0.0025\tTrain accuracy: 100.00\tVal accuracy: 100.00\tTest accuracy: 100.00\n",
      "10:20:00 --- Epoch: 14/tTrain loss: 0.0164\tValid loss: 0.0016\tTrain accuracy: 100.00\tVal accuracy: 100.00\tTest accuracy: 100.00\n",
      "10:20:10 --- Epoch: 15/tTrain loss: 0.0199\tValid loss: 0.0015\tTrain accuracy: 100.00\tVal accuracy: 100.00\tTest accuracy: 100.00\n",
      "10:20:20 --- Epoch: 16/tTrain loss: 0.0121\tValid loss: 0.0015\tTrain accuracy: 100.00\tVal accuracy: 100.00\tTest accuracy: 100.00\n",
      "10:20:30 --- Epoch: 17/tTrain loss: 0.0111\tValid loss: 0.0012\tTrain accuracy: 100.00\tVal accuracy: 100.00\tTest accuracy: 100.00\n",
      "10:20:41 --- Epoch: 18/tTrain loss: 0.0104\tValid loss: 0.0012\tTrain accuracy: 100.00\tVal accuracy: 100.00\tTest accuracy: 100.00\n",
      "10:20:51 --- Epoch: 19/tTrain loss: 0.0091\tValid loss: 0.0011\tTrain accuracy: 100.00\tVal accuracy: 100.00\tTest accuracy: 100.00\n",
      "Best val Acc: 1.000000\n"
     ]
    },
    {
     "data": {
      "image/png": "[encoded data removed]",
      "text/plain": [
       "<Figure size 576x324 with 1 Axes>"
      ]
     },
     "metadata": {},
     "output_type": "display_data"
    }
   ],
   "source": [
    "model = training_loop(model=model, \n",
    "    criterion=criterion, \n",
    "    optimizer=optimizer, \n",
    "    train_loader=train_dataloader, \n",
    "    valid_loader=val_dataloader, \n",
    "    test_dataloader=test_dataloader,\n",
    "    epoches=20, \n",
    "    device=device, \n",
    "    print_every=1\n",
    ")\n",
    "\n",
    "torch.save(model.state_dict(), \"cabos_fonte_classificador.pth\")"
   ]
  },
  {
   "cell_type": "code",
   "execution_count": null,
   "metadata": {},
   "outputs": [],
   "source": []
  }
 ],
 "metadata": {
  "kernelspec": {
   "display_name": "Python 3",
   "language": "python",
   "name": "python3"
  },
  "language_info": {
   "codemirror_mode": {
    "name": "ipython",
    "version": 3
   },
   "file_extension": ".py",
   "mimetype": "text/x-python",
   "name": "python",
   "nbconvert_exporter": "python",
   "pygments_lexer": "ipython3",
   "version": "3.9.5"
  },
  "orig_nbformat": 4,
  "vscode": {
   "interpreter": {
    "hash": "41f14c764d27c962d5d4530fd3a129dfbfc6c63683c24b6097e69cef7d6a7dc1"
   }
  }
 },
 "nbformat": 4,
 "nbformat_minor": 2
}
