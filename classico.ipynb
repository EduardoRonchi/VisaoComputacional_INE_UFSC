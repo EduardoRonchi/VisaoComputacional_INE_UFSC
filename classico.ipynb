{
 "cells": [
  {
   "cell_type": "code",
   "execution_count": 1,
   "metadata": {},
   "outputs": [],
   "source": [
    "import cv2\n",
    "import numpy as np\n",
    "import matplotlib.pyplot as plt\n",
    "%matplotlib inline"
   ]
  },
  {
   "cell_type": "code",
   "execution_count": 2,
   "metadata": {},
   "outputs": [],
   "source": [
    "ref = cv2.imread(\"C:/Users/erh/eduardo/Desktop_4/INE_visao_computacional/memoria_esquerda_splitted/test/esquerda_bom/3.png\", -1)\n",
    "test = cv2.imread(\"C:/Users/erh/eduardo/Desktop_4/INE_visao_computacional/memoria_esquerda_splitted/test/esquerda_bom/6.png\")\n",
    "\n",
    "ref_gray = cv2.cvtColor(ref, cv2.COLOR_BGR2GRAY)\n",
    "test_gray = cv2.cvtColor(test, cv2.COLOR_BGR2GRAY)"
   ]
  },
  {
   "cell_type": "code",
   "execution_count": 3,
   "metadata": {},
   "outputs": [
    {
     "name": "stdout",
     "output_type": "stream",
     "text": [
      "Imagem referência shape: (350, 224, 3), imagem teste shape: (350, 224, 3)\n"
     ]
    }
   ],
   "source": [
    "print(f\"Imagem referência shape: {ref.shape}, imagem teste shape: {test.shape}\")"
   ]
  },
  {
   "cell_type": "code",
   "execution_count": 4,
   "metadata": {},
   "outputs": [],
   "source": [
    "def mse(img1, img2):\n",
    "   h, w = img1.shape\n",
    "   diff = cv2.subtract(img1, img2)\n",
    "   err = np.sum(diff**2)\n",
    "   mse = err/(float(h*w))\n",
    "   return mse, diff"
   ]
  },
  {
   "cell_type": "code",
   "execution_count": 5,
   "metadata": {},
   "outputs": [],
   "source": [
    "error, diff_image = mse(ref_gray, test_gray)"
   ]
  },
  {
   "cell_type": "code",
   "execution_count": 6,
   "metadata": {},
   "outputs": [
    {
     "name": "stdout",
     "output_type": "stream",
     "text": [
      "Image matching Error between the two images: 56.346045918367345\n"
     ]
    },
    {
     "data": {
      "text/plain": [
       "True"
      ]
     },
     "execution_count": 6,
     "metadata": {},
     "output_type": "execute_result"
    }
   ],
   "source": [
    "print(\"Image matching Error between the two images:\", error)\n",
    "cv2.imwrite(\"diff_image.jpg\", diff_image)\n"
   ]
  },
  {
   "cell_type": "code",
   "execution_count": 7,
   "metadata": {},
   "outputs": [
    {
     "name": "stdout",
     "output_type": "stream",
     "text": [
      "Image matching Error between error_teste_ruim: 40.17201530612245\n"
     ]
    },
    {
     "data": {
      "text/plain": [
       "True"
      ]
     },
     "execution_count": 7,
     "metadata": {},
     "output_type": "execute_result"
    }
   ],
   "source": [
    "teste_ruim = cv2.imread(\"C:/Users/erh/eduardo/Desktop_4/INE_visao_computacional/memoria_esquerda_splitted/test/esquerda_ruim/3.png\")\n",
    "\n",
    "teste_ruim_gray = cv2.cvtColor(teste_ruim, cv2.COLOR_BGR2GRAY)\n",
    "\n",
    "error_teste_ruim, diff_ruim = mse(ref_gray, teste_ruim_gray)\n",
    "\n",
    "print(\"Image matching Error between error_teste_ruim:\", error_teste_ruim)\n",
    "cv2.imwrite(\"diff_ruim.jpg\", diff_ruim)"
   ]
  },
  {
   "cell_type": "code",
   "execution_count": 8,
   "metadata": {},
   "outputs": [
    {
     "data": {
      "image/png": "[encoded data removed]",
      "text/plain": [
       "<Figure size 432x288 with 2 Axes>"
      ]
     },
     "metadata": {
      "needs_background": "light"
     },
     "output_type": "display_data"
    }
   ],
   "source": [
    "plt.subplot(221), plt.imshow(diff_ruim,'gray'),plt.title(f\"ref - teste_ruim SSIM:{error_teste_ruim:.2f}\"),plt.axis('off')\n",
    "plt.subplot(222), plt.imshow(diff_image,'gray'),plt.title(f\"ref - teste_bom SSIM: {error:.2f}\"),plt.axis('off')\n",
    "plt.show()"
   ]
  },
  {
   "attachments": {},
   "cell_type": "markdown",
   "metadata": {},
   "source": [
    "# Alinhamento das imagens usando Keypoints\n",
    "## Tentativa 2"
   ]
  },
  {
   "cell_type": "code",
   "execution_count": 36,
   "metadata": {},
   "outputs": [
    {
     "name": "stdout",
     "output_type": "stream",
     "text": [
      "Reading reference image :  C:/Users/erh/eduardo/Desktop_4/INE_visao_computacional/memoria_esquerda_splitted/test/esquerda_bom/3.png\n",
      "Reading image to align :  C:/Users/erh/eduardo/Desktop_4/INE_visao_computacional/memoria_esquerda_splitted/test/esquerda_bom/6.png\n",
      "reading image Bad to be aligned:  C:/Users/erh/eduardo/Desktop_4/INE_visao_computacional/memoria_esquerda_splitted/test/esquerda_ruim/3.png\n",
      "Aligning images ...\n",
      "Saving aligned image :  aligned2.jpg\n",
      "Saving bad aligned image :  alignedBad.jpg\n",
      "Estimated homography : \n",
      " [[ 1.02708682e+00 -1.28746111e-02 -1.64432363e+01]\n",
      " [-2.32466578e-02  1.00026038e+00 -2.02359593e+01]\n",
      " [-1.00591982e-04 -1.37790312e-06  1.00000000e+00]]\n",
      "Estimated BAD homography : \n",
      " [[ 1.00641610e+00 -2.98807055e-03 -2.06858871e+01]\n",
      " [ 3.06246627e-02  1.00329616e+00 -1.05919602e+01]\n",
      " [ 1.10341314e-04 -4.15456683e-05  1.00000000e+00]]\n"
     ]
    }
   ],
   "source": [
    "from __future__ import print_function\n",
    "import cv2\n",
    "import numpy as np\n",
    " \n",
    "MAX_FEATURES = 500\n",
    "GOOD_MATCH_PERCENT = 0.3\n",
    " \n",
    "def alignImages(im1, im2):\n",
    " \n",
    "  # Convert images to grayscale\n",
    "  im1Gray = cv2.cvtColor(im1, cv2.COLOR_BGR2GRAY)\n",
    "  im2Gray = cv2.cvtColor(im2, cv2.COLOR_BGR2GRAY)\n",
    " \n",
    "  # Detect ORB features and compute descriptors.\n",
    "  orb = cv2.ORB_create(MAX_FEATURES)\n",
    "  keypoints1, descriptors1 = orb.detectAndCompute(im1Gray, None)\n",
    "  keypoints2, descriptors2 = orb.detectAndCompute(im2Gray, None)\n",
    " \n",
    "  # Match features.\n",
    "  matcher = cv2.DescriptorMatcher_create(cv2.DESCRIPTOR_MATCHER_BRUTEFORCE_HAMMING)\n",
    "  matches = matcher.match(descriptors1, descriptors2, None)\n",
    "\n",
    "  # Sort matches by score\n",
    "  matches = sorted(matches, key=lambda x: x.distance)\n",
    " \n",
    "  # Remove not so good matches\n",
    "  numGoodMatches = int(len(matches) * GOOD_MATCH_PERCENT)\n",
    "  matches = matches[:numGoodMatches]\n",
    " \n",
    "  # Draw top matches\n",
    "  imMatches = cv2.drawMatches(im1, keypoints1, im2, keypoints2, matches, None)\n",
    "  cv2.imwrite(\"matches2.jpg\", imMatches)\n",
    " \n",
    "  # Extract location of good matches\n",
    "  points1 = np.zeros((len(matches), 2), dtype=np.float32)\n",
    "  points2 = np.zeros((len(matches), 2), dtype=np.float32)\n",
    " \n",
    "  for i, match in enumerate(matches):\n",
    "    points1[i, :] = keypoints1[match.queryIdx].pt\n",
    "    points2[i, :] = keypoints2[match.trainIdx].pt\n",
    " \n",
    "  # Find homography\n",
    "  h, mask = cv2.findHomography(points1, points2, cv2.RANSAC)\n",
    " \n",
    "  # Use homography\n",
    "  height, width, channels = im2.shape\n",
    "  im1Reg = cv2.warpPerspective(im1, h, (width, height))\n",
    " \n",
    "  return im1Reg, h\n",
    " \n",
    "if __name__ == '__main__':\n",
    "\n",
    "  # Read reference image\n",
    "  refFilename = \"C:/Users/erh/eduardo/Desktop_4/INE_visao_computacional/memoria_esquerda_splitted/test/esquerda_bom/3.png\"\n",
    "  print(\"Reading reference image : \", refFilename)\n",
    "  imReference = cv2.imread(refFilename, cv2.IMREAD_COLOR)\n",
    " \n",
    "  # Read image to be aligned\n",
    "  imFilename = \"C:/Users/erh/eduardo/Desktop_4/INE_visao_computacional/memoria_esquerda_splitted/test/esquerda_bom/6.png\"\n",
    "  print(\"Reading image to align : \", imFilename)\n",
    "  im = cv2.imread(imFilename, cv2.IMREAD_COLOR)\n",
    "\n",
    "  # read bad image to be aligned\n",
    "  imBadFilename = \"C:/Users/erh/eduardo/Desktop_4/INE_visao_computacional/memoria_esquerda_splitted/test/esquerda_ruim/3.png\"\n",
    "  print(\"reading image Bad to be aligned: \", imBadFilename)\n",
    "  imBad = cv2.imread(imBadFilename, cv2.IMREAD_COLOR)\n",
    " \n",
    "  print(\"Aligning images ...\")\n",
    "  # Registered image will be resotred in imReg.\n",
    "  # The estimated homography will be stored in h.\n",
    "  imReg, h = alignImages(im, imReference)\n",
    "  imBadReg, hBad = alignImages(imBad, imReference)\n",
    " \n",
    "  # Write aligned image to disk.\n",
    "  outFilename = \"aligned2.jpg\"\n",
    "  print(\"Saving aligned image : \", outFilename)\n",
    "  cv2.imwrite(outFilename, imReg)\n",
    "\n",
    "  # Write BAD aligned image to disk.\n",
    "  outFilenameBad = \"alignedBad.jpg\"\n",
    "  print(\"Saving bad aligned image : \", outFilenameBad)\n",
    "  cv2.imwrite(outFilenameBad, imBadReg)\n",
    " \n",
    "  # Print estimated homography\n",
    "  print(\"Estimated homography : \\n\",  h)\n",
    "  print(\"Estimated BAD homography : \\n\",  hBad)"
   ]
  },
  {
   "attachments": {},
   "cell_type": "markdown",
   "metadata": {},
   "source": [
    "# 3. Testando SSIM com imagem referência e alinhada"
   ]
  },
  {
   "cell_type": "code",
   "execution_count": 35,
   "metadata": {},
   "outputs": [
    {
     "name": "stdout",
     "output_type": "stream",
     "text": [
      "Image matching Error between error_teste_ruim: 54.814438775510204\n"
     ]
    }
   ],
   "source": [
    "alinhada = cv2.imread(\"aligned.jpg\")\n",
    "\n",
    "alinhada_gray = cv2.cvtColor(alinhada, cv2.COLOR_BGR2GRAY)\n",
    "\n",
    "error_teste_alinhada, diff_alinhada = mse(ref_gray, alinhada_gray)\n",
    "\n",
    "print(\"Image matching Error between error_teste_ruim:\", error_teste_alinhada)"
   ]
  },
  {
   "attachments": {},
   "cell_type": "markdown",
   "metadata": {},
   "source": [
    "Para o caso \"BOM\" o alinhamento diminuiu SSIM"
   ]
  },
  {
   "attachments": {},
   "cell_type": "markdown",
   "metadata": {},
   "source": [
    "### 3.1 Testando SSIM com imagem de classes diferentes"
   ]
  },
  {
   "cell_type": "code",
   "execution_count": 51,
   "metadata": {},
   "outputs": [
    {
     "name": "stdout",
     "output_type": "stream",
     "text": [
      "Image matching Error between error_teste_ruim: 32.17373724489796\n"
     ]
    },
    {
     "data": {
      "image/png": "[encoded data removed]",
      "text/plain": [
       "<Figure size 432x288 with 1 Axes>"
      ]
     },
     "metadata": {
      "needs_background": "light"
     },
     "output_type": "display_data"
    }
   ],
   "source": [
    "imBadReg_gray = cv2.cvtColor(imBadReg, cv2.COLOR_BGR2GRAY)\n",
    "\n",
    "error_teste_alinhada_bad, diff_alinhada_bad = mse(ref_gray, imBadReg_gray)\n",
    "\n",
    "print(\"Image matching Error between error_teste_ruim:\", error_teste_alinhada_bad)\n",
    "plt.subplot(111)\n",
    "plt.imshow(diff_alinhada_bad,'gray')\n",
    "plt.title(f\"ref - teste_ruim SSIM: {error_teste_alinhada_bad:.2f}\")\n",
    "plt.axis('off')\n",
    "plt.show()"
   ]
  },
  {
   "cell_type": "markdown",
   "metadata": {},
   "source": []
  }
 ],
 "metadata": {
  "kernelspec": {
   "display_name": "Python 3",
   "language": "python",
   "name": "python3"
  },
  "language_info": {
   "codemirror_mode": {
    "name": "ipython",
    "version": 3
   },
   "file_extension": ".py",
   "mimetype": "text/x-python",
   "name": "python",
   "nbconvert_exporter": "python",
   "pygments_lexer": "ipython3",
   "version": "3.9.5"
  },
  "orig_nbformat": 4,
  "vscode": {
   "interpreter": {
    "hash": "41f14c764d27c962d5d4530fd3a129dfbfc6c63683c24b6097e69cef7d6a7dc1"
   }
  }
 },
 "nbformat": 4,
 "nbformat_minor": 2
}
